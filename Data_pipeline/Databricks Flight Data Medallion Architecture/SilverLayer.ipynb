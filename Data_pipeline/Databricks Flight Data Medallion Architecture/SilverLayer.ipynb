{
 "cells": [
  {
   "cell_type": "code",
   "execution_count": 0,
   "metadata": {
    "application/vnd.databricks.v1+cell": {
     "cellMetadata": {
      "byteLimit": 2048000,
      "rowLimit": 10000
     },
     "inputWidgets": {},
     "nuid": "98e0decb-8492-4f8e-812f-7969962b403b",
     "showTitle": false,
     "tableResultSettingsMap": {},
     "title": ""
    }
   },
   "outputs": [],
   "source": [
    "\n",
    "from pyspark.sql.functions import *\n",
    "from pyspark.sql.types import *  "
   ]
  },
  {
   "cell_type": "markdown",
   "metadata": {
    "application/vnd.databricks.v1+cell": {
     "cellMetadata": {},
     "inputWidgets": {},
     "nuid": "9c853a5d-af63-4245-aae4-e4a2ac33cebd",
     "showTitle": false,
     "tableResultSettingsMap": {},
     "title": ""
    }
   },
   "source": []
  },
  {
   "cell_type": "code",
   "execution_count": 0,
   "metadata": {
    "application/vnd.databricks.v1+cell": {
     "cellMetadata": {
      "byteLimit": 2048000,
      "rowLimit": 10000
     },
     "inputWidgets": {},
     "nuid": "f35fa718-ebe7-4f37-b2b0-d5573e63cfc2",
     "showTitle": false,
     "tableResultSettingsMap": {},
     "title": ""
    }
   },
   "outputs": [],
   "source": [
    "df= spark.read.format(\"delta\")\\\n",
    "        .load(\"/Volumes/workspace/bronze/bronzevolume/bookings/data/\")\n",
    "display(df)\n"
   ]
  },
  {
   "cell_type": "code",
   "execution_count": 0,
   "metadata": {
    "application/vnd.databricks.v1+cell": {
     "cellMetadata": {
      "byteLimit": 2048000,
      "rowLimit": 10000
     },
     "inputWidgets": {},
     "nuid": "02dd5b82-b82f-45c4-b106-c04e1bcfa095",
     "showTitle": false,
     "tableResultSettingsMap": {},
     "title": ""
    }
   },
   "outputs": [],
   "source": [
    "df = df.withColumn(\"amount\",col(\"amount\").cast(DoubleType()))\\\n",
    "            .withColumn(\"modifiedDate\",current_timestamp())\\\n",
    "            .withColumn(\"booking_date\",to_date(col(\"booking_date\")))\\\n",
    "              .drop(\"_rescued_data\")\n",
    "\n",
    "display(df)\n",
    "\n"
   ]
  },
  {
   "cell_type": "code",
   "execution_count": 0,
   "metadata": {
    "application/vnd.databricks.v1+cell": {
     "cellMetadata": {
      "byteLimit": 2048000,
      "rowLimit": 10000
     },
     "inputWidgets": {},
     "nuid": "7838fcab-d2b7-481d-a4b8-d034df23f50b",
     "showTitle": false,
     "tableResultSettingsMap": {},
     "title": ""
    }
   },
   "outputs": [],
   "source": [
    "import dlt\n",
    "@dlt.table(\n",
    "    name =\"stage_bookings\"\n",
    ")\n",
    "def stage_bookings():\n",
    "    df = spark.re\n",
    "    adStream.format(\"delta\")\\\n",
    "        .load(\"/Volumes/workspace/bronze/bronzevolume/bookings/data/\")\n",
    "    return(df)"
   ]
  },
  {
   "cell_type": "code",
   "execution_count": 0,
   "metadata": {
    "application/vnd.databricks.v1+cell": {
     "cellMetadata": {
      "byteLimit": 2048000,
      "rowLimit": 10000
     },
     "inputWidgets": {},
     "nuid": "e0f3e3a7-8901-451c-86aa-05ef7fa2f54f",
     "showTitle": false,
     "tableResultSettingsMap": {},
     "title": ""
    }
   },
   "outputs": [],
   "source": [
    " @dlt.view(\n",
    "    name =\"trans_bookings\"\n",
    ")\n",
    "def trans_bookings():\n",
    "    df = df.withColumn(\"amount\",col(\"amount\").cast(DoubleType()))\\\n",
    "            .withColumn(\"modifiedDate\",current_timestamp())\\\n",
    "            .withColumn(\"booking_date\",to_date(col(\"booking_date\")))\\\n",
    "              .drop(\"_rescued_data\")\n",
    "\n",
    "    return(df)"
   ]
  },
  {
   "cell_type": "code",
   "execution_count": 0,
   "metadata": {
    "application/vnd.databricks.v1+cell": {
     "cellMetadata": {},
     "inputWidgets": {},
     "nuid": "e394b817-9e66-4ff3-9c6c-8d558f938a62",
     "showTitle": false,
     "tableResultSettingsMap": {},
     "title": ""
    }
   },
   "outputs": [],
   "source": [
    "rules = {\n",
    "\"rule1\" : \"booking_id IS NOT NULL\",\n",
    "\"rule2\" : \"passenger_id IS NOT NULL\"\n",
    "}"
   ]
  },
  {
   "cell_type": "code",
   "execution_count": 0,
   "metadata": {
    "application/vnd.databricks.v1+cell": {
     "cellMetadata": {
      "byteLimit": 2048000,
      "rowLimit": 10000
     },
     "inputWidgets": {},
     "nuid": "1daffc41-e1ed-4037-ab28-01e2beda4375",
     "showTitle": false,
     "tableResultSettingsMap": {},
     "title": ""
    }
   },
   "outputs": [],
   "source": [
    "@dlt.table(\n",
    "    name =\"silver_bookings\"\n",
    ")\n",
    "@dlt.expect_all_or_drop(rules)\n",
    " def silver_bookings():\n",
    "     df= spark.readStream.tableO(\"trans_bookings\")\n",
    "     return(df)\n",
    " \n"
   ]
  }
 ],
 "metadata": {
  "application/vnd.databricks.v1+notebook": {
   "computePreferences": null,
   "dashboards": [],
   "environmentMetadata": {
    "base_environment": "",
    "environment_version": "2"
   },
   "inputWidgetPreferences": null,
   "language": "python",
   "notebookMetadata": {
    "pythonIndentUnit": 4
   },
   "notebookName": "SilverLayer",
   "widgets": {}
  },
  "language_info": {
   "name": "python"
  }
 },
 "nbformat": 4,
 "nbformat_minor": 0
}
